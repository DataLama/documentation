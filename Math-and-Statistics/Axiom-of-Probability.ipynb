{
 "cells": [
  {
   "cell_type": "markdown",
   "metadata": {},
   "source": [
    "### 확률의 공리\n",
    "표본공간 $S$에 대한 사건 $A$가 아래의 세가지 성질을 만족할 때, 사건 $A$에 대한 확률 $P(A)$는 다음과 같이 정의한다.\n",
    "- **확률의 범위**\n",
    "    - 각 사건 $A$에 대하여 $P(A)\\ge0$\n",
    "- **전체의 확률**\n",
    "    - 표본공간 $S$에 대하여 $P(S)=1$\n",
    "- **가산가법성**\n",
    "    - 사건 $A_1, A_2, ...$에 대하여 $A_i \\cap A_j = \\emptyset (i \\not= j)$ 이면 $P(A_1 \\cup A_2 \\cup \\cdots) = P(A_1) + P(A_2) + \\cdots$"
   ]
  },
  {
   "cell_type": "markdown",
   "metadata": {},
   "source": [
    "### 확률의 기본 성질\n",
    "- 각 사건 $A$에 대하여 $0 \\le P(A) \\le 1$ 이고, $P(\\emptyset)=0$\n",
    "- $P(A^c) = 1 - P(A)$ (여사건의 확률)\n",
    "- $A \\subset B$ 이면 $P(A) \\le P(B)$ (단조성)"
   ]
  }
 ],
 "metadata": {
  "kernelspec": {
   "display_name": "Python 3",
   "language": "python",
   "name": "python3"
  },
  "language_info": {
   "codemirror_mode": {
    "name": "ipython",
    "version": 3
   },
   "file_extension": ".py",
   "mimetype": "text/x-python",
   "name": "python",
   "nbconvert_exporter": "python",
   "pygments_lexer": "ipython3",
   "version": "3.6.9"
  }
 },
 "nbformat": 4,
 "nbformat_minor": 4
}
